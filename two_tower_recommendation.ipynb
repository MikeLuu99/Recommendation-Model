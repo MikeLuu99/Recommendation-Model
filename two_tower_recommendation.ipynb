{
 "cells": [
  {
   "cell_type": "code",
   "execution_count": 5,
   "metadata": {},
   "outputs": [],
   "source": [
    "import pandas as pd "
   ]
  },
  {
   "cell_type": "code",
   "execution_count": 6,
   "metadata": {},
   "outputs": [],
   "source": [
    "movies_df = pd.read_csv(\"ml-latest-small/movies.csv\")\n",
    "ratings_df = pd.read_csv(\"ml-latest-small/ratings.csv\")"
   ]
  },
  {
   "cell_type": "code",
   "execution_count": 7,
   "metadata": {},
   "outputs": [],
   "source": [
    "n_users = len(ratings_df.userId.unique())\n",
    "n_items = len(ratings_df.movieId.unique())"
   ]
  },
  {
   "cell_type": "code",
   "execution_count": 4,
   "metadata": {},
   "outputs": [],
   "source": [
    "import torch\n",
    "import torch.nn as nn\n",
    "\n",
    "class UserTower(nn.Module):\n",
    "    def __init__(self, num_users, embedding_dim):\n",
    "        super(UserTower, self).__init__()\n",
    "        self.embedding = nn.Embedding(num_users, embedding_dim)\n",
    "        self.fc1 = nn.Linear(embedding_dim, 64)\n",
    "        self.fc2 = nn.Linear(64, 32)\n",
    "        self.relu = nn.ReLU()\n",
    "\n",
    "    def forward(self, user_ids):\n",
    "        user_embeddings = self.embedding(user_ids)\n",
    "        x = self.relu(self.fc1(user_embeddings))\n",
    "        user_features = self.fc2(x)\n",
    "        return user_features\n",
    "\n",
    "class MovieTower(nn.Module):\n",
    "    def __init__(self, num_movies, embedding_dim):\n",
    "        super(MovieTower, self).__init__()\n",
    "        self.embedding = nn.Embedding(num_movies, embedding_dim)\n",
    "        self.fc1 = nn.Linear(embedding_dim, 64)\n",
    "        self.fc2 = nn.Linear(64, 32)\n",
    "        self.relu = nn.ReLU()\n",
    "\n",
    "    def forward(self, movie_ids):\n",
    "        movie_embeddings = self.embedding(movie_ids)\n",
    "        x = self.relu(self.fc1(movie_embeddings))\n",
    "        movie_features = self.fc2(x)\n",
    "        return movie_features\n",
    "\n",
    "class TwoTowerRecommender(nn.Module):\n",
    "    def __init__(self, num_users, num_movies, embedding_dim):\n",
    "        super(TwoTowerRecommender, self).__init__()\n",
    "        self.user_tower = UserTower(num_users, embedding_dim)\n",
    "        self.movie_tower = MovieTower(num_movies, embedding_dim)\n",
    "        self.rating_layer = nn.Linear(32 + 32, 1)\n",
    "\n",
    "    def forward(self, user_ids, movie_ids):\n",
    "        user_features = self.user_tower(user_ids)\n",
    "        movie_features = self.movie_tower(movie_ids)\n",
    "        combined_features = torch.cat([user_features, movie_features], dim=1)\n",
    "        ratings = self.rating_layer(combined_features)\n",
    "        return ratings.squeeze()"
   ]
  },
  {
   "cell_type": "code",
   "execution_count": null,
   "metadata": {},
   "outputs": [],
   "source": [
    "# Instantiate the model\n",
    "model = TwoTowerRecommender(num_users=n_users, num_movies=n_items, embedding_dim=32)\n",
    "\n",
    "# Define the loss function and optimizer\n",
    "loss_fn = nn.MSELoss()\n",
    "optimizer = torch.optim.Adam(model.parameters(), lr=1e-3)\n",
    "\n",
    "num_epochs = 128\n",
    "# Training loop\n",
    "for epoch in range(num_epochs):\n",
    "    optimizer.zero_grad()\n",
    "    predicted_ratings = model(n_users, n_items)\n",
    "    loss = loss_fn(predicted_ratings, ratings)\n",
    "    loss.backward()\n",
    "    optimizer.step()\n",
    "    print(f\"Epoch: {epoch}, Loss: {loss.item()}\")"
   ]
  }
 ],
 "metadata": {
  "kernelspec": {
   "display_name": "cnn",
   "language": "python",
   "name": "cnn"
  },
  "language_info": {
   "codemirror_mode": {
    "name": "ipython",
    "version": 3
   },
   "file_extension": ".py",
   "mimetype": "text/x-python",
   "name": "python",
   "nbconvert_exporter": "python",
   "pygments_lexer": "ipython3",
   "version": "3.11.4"
  }
 },
 "nbformat": 4,
 "nbformat_minor": 2
}
